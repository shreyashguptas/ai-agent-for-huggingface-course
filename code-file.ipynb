{
 "cells": [
  {
   "cell_type": "code",
   "execution_count": null,
   "metadata": {},
   "outputs": [],
   "source": [
    "# %pip install -q requests 'smolagents[litellm]' openai-agents openai python-dotenv"
   ]
  },
  {
   "cell_type": "code",
   "execution_count": null,
   "metadata": {},
   "outputs": [],
   "source": [
    "import requests\n",
    "from openai import OpenAI\n",
    "import os\n",
    "from dotenv import load_dotenv\n",
    "\n",
    "# Load environment variables\n",
    "load_dotenv()"
   ]
  },
  {
   "cell_type": "code",
   "execution_count": null,
   "metadata": {},
   "outputs": [],
   "source": [
    "# Initialize OpenAI client\n",
    "client = OpenAI(api_key=os.getenv(\"OPENAI_API_KEY\"))\n",
    "\n",
    "# Hugging Face API configuration\n",
    "HF_API_URL = \"https://agents-course-unit4-scoring.hf.space\""
   ]
  },
  {
   "cell_type": "code",
   "execution_count": null,
   "metadata": {},
   "outputs": [],
   "source": [
    "def get_random_question():\n",
    "    \"\"\"Fetch a random question from GAIA benchmark\"\"\"\n",
    "    response = requests.get(f\"{HF_API_URL}/random-question\")\n",
    "    return response.json() if response.status_code == 200 else None\n",
    "\n",
    "def solve_gaia_task(question_data: dict) -> str:\n",
    "    \"\"\"Process GAIA question with strict answer formatting\"\"\"\n",
    "    # Build precise prompt\n",
    "    prompt = f\"\"\"Analyze and solve the following question. \n",
    "    Return ONLY the final answer in comma-separated alphabetical order, NO explanations.\n",
    "    \n",
    "    Question:\n",
    "    {question_data['question']}\"\"\"\n",
    "    \n",
    "    # Get AI response\n",
    "    response = client.chat.completions.create(\n",
    "        model=\"gpt-4-turbo\",  # Use current production model\n",
    "        messages=[{\"role\": \"user\", \"content\": prompt}],\n",
    "        temperature=0.1,\n",
    "        max_tokens=50\n",
    "    )\n",
    "    \n",
    "    # Extract and format answer\n",
    "    raw_answer = response.choices[0].message.content\n",
    "    return format_gaia_answer(raw_answer)\n",
    "\n",
    "def format_gaia_answer(raw: str) -> str:\n",
    "    \"\"\"Enforce GAIA answer formatting rules\"\"\"\n",
    "    # Remove non-alphanumeric except commas\n",
    "    cleaned = \"\".join([c for c in raw if c.isalnum() or c in \", \"])\n",
    "    # Split, sort, and join elements\n",
    "    elements = [e.strip().lower() for e in cleaned.split(\",\") if e.strip()]\n",
    "    return \",\".join(sorted(set(elements)))  # Remove duplicates and sort\n",
    "\n",
    "# Execution flow\n",
    "if __name__ == \"__main__\":\n",
    "    question = get_random_question()\n",
    "    if question:\n",
    "        answer = solve_gaia_task(question)\n",
    "        print(f\"Task ID: {question['task_id']}\")\n",
    "        print(f\"Formatted Answer: {answer}\")  # Should output \"b,e\" for sample question\n",
    "    else:\n",
    "        print(\"Failed to fetch question\")\n"
   ]
  },
  {
   "cell_type": "code",
   "execution_count": null,
   "metadata": {},
   "outputs": [],
   "source": [
    "def submit_answers(answers: list):\n",
    "    payload = {\n",
    "        \"username\": \"Shreyashgupta5\",\n",
    "        \"agent_code\": \"https://huggingface.co/spaces/Shreyashgupta5/ai_agents_course\",\n",
    "        \"answers\": [{\n",
    "            \"task_id\": q[\"task_id\"],\n",
    "            \"submitted_answer\": answer\n",
    "        } for q, answer in answers]\n",
    "    }\n",
    "    response = requests.post(f\"{HF_API_URL}/submit\", json=payload)\n",
    "    return response.json()\n"
   ]
  }
 ],
 "metadata": {
  "kernelspec": {
   "display_name": "ai_agents_final_project",
   "language": "python",
   "name": "python3"
  },
  "language_info": {
   "codemirror_mode": {
    "name": "ipython",
    "version": 3
   },
   "file_extension": ".py",
   "mimetype": "text/x-python",
   "name": "python",
   "nbconvert_exporter": "python",
   "pygments_lexer": "ipython3",
   "version": "3.12.9"
  }
 },
 "nbformat": 4,
 "nbformat_minor": 2
}
